{
 "cells": [
  {
   "cell_type": "markdown",
   "id": "4f3f9cdd",
   "metadata": {},
   "source": [
    "# Unidad 2"
   ]
  },
  {
   "cell_type": "markdown",
   "id": "b5f50867",
   "metadata": {},
   "source": [
    "## 2.1 Operadores y Expresiones aritméticas"
   ]
  },
  {
   "cell_type": "markdown",
   "id": "a65069f4",
   "metadata": {},
   "source": [
    "### Introducción"
   ]
  },
  {
   "cell_type": "markdown",
   "id": "0a56b04c",
   "metadata": {},
   "source": [
    "**Introducción: Operadores y Expresiones Aritméticas en Programación**\n",
    "\n",
    "Los operadores y expresiones aritméticas son conceptos fundamentales en programación, ya que proporcionan las herramientas necesarias para realizar cálculos y manipular datos de manera eficiente. Estos elementos son esenciales en cualquier lenguaje de programación, incluido Python.\n",
    "\n",
    "**Operadores Aritméticos:**\n",
    "Los operadores aritméticos son símbolos que permiten realizar operaciones matemáticas en variables y valores. Los operadores básicos incluyen la suma (+), resta (-), multiplicación (*), y división (/). Además, existen operadores adicionales como la división entera (//), el módulo o residuo (%), y la potenciación (**). Estos operadores son la base para realizar cálculos y manipular datos numéricos en un programa.\n",
    "\n",
    "**Expresiones Aritméticas:**\n",
    "Las expresiones aritméticas son combinaciones de variables, valores y operadores que se evalúan para producir un resultado numérico. Estas expresiones siguen reglas específicas de prioridad de operadores, similar a las reglas de la aritmética tradicional. La correcta construcción de expresiones aritméticas es crucial para obtener resultados precisos en un programa.\n",
    "\n",
    "**Importancia en la Programación:**\n",
    "1. **Cálculos y Procesamiento de Datos:** Los operadores y expresiones aritméticas permiten realizar cálculos complejos y procesar datos de manera eficiente, lo que es esencial en diversas aplicaciones, desde simples scripts hasta aplicaciones científicas y financieras.\n",
    "\n",
    "2. **Desarrollo de Algoritmos:** En muchos casos, la manipulación de datos numéricos es esencial para el desarrollo de algoritmos. Los operadores aritméticos son herramientas clave para la implementación de algoritmos matemáticos y lógicos.\n",
    "\n",
    "3. **Interacción con el Usuario:** Facilitan la interacción entre el programa y el usuario al permitir la entrada de datos, realizar cálculos en tiempo real y presentar resultados de manera comprensible.\n",
    "\n",
    "4. **Conversión de Expresiones Matemáticas:** En la programación, a menudo se requiere traducir expresiones matemáticas a código. Comprender los operadores y expresiones aritméticas es esencial para esta conversión y para garantizar la precisión en la implementación del código.\n",
    "\n",
    "En resumen, los operadores y expresiones aritméticas son pilares esenciales en la programación, ya que proporcionan las herramientas necesarias para trabajar con datos numéricos y realizar cálculos, permitiendo a los programadores desarrollar aplicaciones funcionales y eficientes."
   ]
  },
  {
   "cell_type": "markdown",
   "id": "5bde50db",
   "metadata": {},
   "source": [
    "#### Operadores aritméticos"
   ]
  },
  {
   "cell_type": "markdown",
   "id": "eadaa47c",
   "metadata": {},
   "source": [
    "Los operadores aritméticos son símbolos que permiten realizar operaciones matemáticas en variables y valores. Estos son esenciales para manipular datos numéricos en un programa.\n",
    "\n",
    "- **Suma (+):** Adición de dos valores.\n",
    "- **Resta (-):** Sustracción de un valor de otro.\n",
    "- **Multiplicación (*):** Producto de dos valores.\n",
    "- **División (/):** Cociente de la división de un valor entre otro.\n",
    "\n",
    "**Operadores Adicionales:**\n",
    "\n",
    "- **División Entera (//):** Obtiene el cociente entero de una división.\n",
    "- **Módulo (%):** Calcula el resto de una división.\n",
    "- **Potenciación (**):** Eleva un valor a la potencia de otro.\n",
    "\n",
    "**Ejemplos:**\n"
   ]
  },
  {
   "cell_type": "code",
   "execution_count": null,
   "id": "f8cf17ef",
   "metadata": {},
   "outputs": [],
   "source": [
    "# Ejemplos de operadores básicos\n",
    "suma = 5 + 3        # Resultado: 8\n",
    "resta = 10 - 4      # Resultado: 6\n",
    "multiplicacion = 2 * 6  # Resultado: 12\n",
    "division = 20 / 4   # Resultado: 5.0 (en Python 3, la división siempre devuelve un número de punto flotante)\n",
    "\n",
    "# Ejemplos de operadores adicionales\n",
    "division_entera = 15 // 2  # Resultado: 7\n",
    "modulo = 17 % 4           # Resultado: 1\n",
    "potenciacion = 3 ** 4      # Resultado: 81\n"
   ]
  },
  {
   "cell_type": "code",
   "execution_count": null,
   "id": "aeb1f386",
   "metadata": {},
   "outputs": [],
   "source": [
    "#Ejecución de prueba"
   ]
  },
  {
   "cell_type": "markdown",
   "id": "475a8a47",
   "metadata": {},
   "source": [
    "#### Expresiones Aritméticas"
   ]
  },
  {
   "cell_type": "markdown",
   "id": "6e14c84b",
   "metadata": {},
   "source": [
    "Las expresiones aritméticas combinan variables, valores y operadores para producir resultados numéricos. Siguen reglas específicas de prioridad de operadores.\n",
    "\n",
    "- **Prioridad de Operadores:** Se respetan las reglas de la aritmética tradicional.\n",
    "- **Correcta Construcción:** Es esencial para obtener resultados precisos.\n",
    "\n",
    "**Ejemplos y Práctica:**\n"
   ]
  },
  {
   "cell_type": "code",
   "execution_count": null,
   "id": "afe0499a",
   "metadata": {},
   "outputs": [],
   "source": [
    "# Ejemplos de expresiones aritméticas\n",
    "expresion_1 = 3 + 2 * 5     # Resultado: 13 (se evalúa la multiplicación antes de la suma)"
   ]
  },
  {
   "cell_type": "code",
   "execution_count": null,
   "id": "976c995c",
   "metadata": {},
   "outputs": [],
   "source": [
    "print(expresion_1)"
   ]
  },
  {
   "cell_type": "code",
   "execution_count": null,
   "id": "8430db98",
   "metadata": {},
   "outputs": [],
   "source": [
    "expresion_2 = (3 + 2) * 5   # Resultado: 25 (se utilizan paréntesis para cambiar la prioridad)\n",
    "print(expresion_2)"
   ]
  },
  {
   "cell_type": "code",
   "execution_count": null,
   "id": "2211d6ec",
   "metadata": {},
   "outputs": [],
   "source": [
    "expresion_3 = 8 / 2 + 3     # Resultado: 7.0 (se respeta la jerarquía de la división y suma)\n",
    "print(expresion_3)"
   ]
  },
  {
   "cell_type": "code",
   "execution_count": null,
   "id": "53c9e3c6",
   "metadata": {},
   "outputs": [],
   "source": [
    "# Práctica con expresiones aritméticas\n",
    "resultado_practica = (10 - 4) * 2 / 3  # Calcula el resultado de la expresión"
   ]
  },
  {
   "cell_type": "code",
   "execution_count": null,
   "id": "f0999a10",
   "metadata": {},
   "outputs": [],
   "source": [
    "expresion_4 = 2 ** 3        # Resultado: 8 (potenciación)"
   ]
  },
  {
   "cell_type": "code",
   "execution_count": null,
   "id": "50730431",
   "metadata": {},
   "outputs": [],
   "source": [
    "expresion_5 = 15 // 4       # Resultado: 3 (división entera)"
   ]
  },
  {
   "cell_type": "code",
   "execution_count": null,
   "id": "a27da503",
   "metadata": {},
   "outputs": [],
   "source": [
    "expresion_6 = 17 % 5        # Resultado: 2 (módulo)"
   ]
  },
  {
   "cell_type": "markdown",
   "id": "40bcaf9b",
   "metadata": {},
   "source": [
    "Estos ejemplos muestran cómo construir y evaluar expresiones aritméticas en Python. La correcta aplicación de las reglas de prioridad de operadores y el uso de paréntesis cuando sea necesario son fundamentales para obtener resultados precisos en las expresiones aritméticas."
   ]
  },
  {
   "cell_type": "markdown",
   "id": "ba249c31",
   "metadata": {},
   "source": [
    "#### Prioridad de operadores"
   ]
  },
  {
   "cell_type": "markdown",
   "id": "a822b0fb",
   "metadata": {},
   "source": [
    "\n",
    "Para escribir expresiones matemáticas en cualquier lenguaje de programación es importante considerar la jerarquía de operadores como se muestra en la siguiente tabla:"
   ]
  },
  {
   "cell_type": "markdown",
   "id": "e45e8b86",
   "metadata": {},
   "source": [
    "| Prioridad | Operadores           |\n",
    "|-----------|----------------------|\n",
    "| 1         | `()`                 |\n",
    "| 2         | `+x, -x` (unarios)   |\n",
    "| 3         | `**`                 |\n",
    "| 4         | `*, /, //, %`        |\n",
    "| 5         | `+, -` (binarios)    |\n",
    "\n",
    "**Notas:**\n",
    "- **Paréntesis `()`:** Tienen la mayor prioridad y se utilizan para cambiar la asociatividad y el orden de evaluación.\n",
    "- **Operadores Unarios `+x, -x`:** Indican positividad y negatividad respectivamente.\n",
    "- **Potenciación `**`:** Tiene la segunda mayor prioridad y se evalúa de derecha a izquierda.\n",
    "- **Operadores Binarios `*, /, //, %`:** Multiplicación, división, división entera y módulo se evalúan de izquierda a derecha.\n",
    "- **Operadores Binarios `+, -`:** Suma y resta se evalúan de izquierda a derecha y tienen la menor prioridad.\n"
   ]
  },
  {
   "cell_type": "markdown",
   "id": "e91ccf40",
   "metadata": {},
   "source": [
    "#### Ejemplos "
   ]
  },
  {
   "cell_type": "markdown",
   "id": "e4e617a3",
   "metadata": {},
   "source": [
    "###### **Ejemplo 1:**\n",
    "Convierte la expresión matemática: $\\left( 3 + (4 \\times 2) \\right)$ a código Python."
   ]
  },
  {
   "cell_type": "code",
   "execution_count": null,
   "id": "6606315a",
   "metadata": {},
   "outputs": [],
   "source": [
    "resultado = 3 + (4 * 2)\n",
    "print(resultado)"
   ]
  },
  {
   "cell_type": "markdown",
   "id": "cd82ffe6",
   "metadata": {},
   "source": [
    "###### **Ejemplo 2:**\n",
    "Convierte la expresión matemática: $\\left( \\frac{5}{2} + (7 - 3) \\right)$ a código Python."
   ]
  },
  {
   "cell_type": "code",
   "execution_count": null,
   "id": "bce64924",
   "metadata": {},
   "outputs": [],
   "source": [
    "resultado = 5 / 2 + (7 - 3)\n",
    "print(resultado)"
   ]
  },
  {
   "cell_type": "markdown",
   "id": "efa5a57e",
   "metadata": {},
   "source": [
    "#### Ejercicios:"
   ]
  },
  {
   "cell_type": "markdown",
   "id": "e02f0b3d",
   "metadata": {},
   "source": [
    "###### **Ejercicio 1:**\n",
    "Convierte la siguiente expresión matemática a código Python: $ \\left(2 \\times (3 + 4)\\right)$"
   ]
  },
  {
   "cell_type": "code",
   "execution_count": null,
   "id": "a6fa7c8e",
   "metadata": {},
   "outputs": [],
   "source": [
    "#Tu código aquí\n"
   ]
  },
  {
   "cell_type": "markdown",
   "id": "b9c07993",
   "metadata": {},
   "source": [
    "###### **Ejercicio 2:**\n",
    "Convierte la siguiente expresión matemática a código Python: $\\left( \\frac{8}{2} - (4 + 1)\\right)$ \n",
    "\n"
   ]
  },
  {
   "cell_type": "code",
   "execution_count": null,
   "id": "f42e28d4",
   "metadata": {},
   "outputs": [],
   "source": [
    "# Tu código aquí\n"
   ]
  },
  {
   "cell_type": "markdown",
   "id": "66af7942",
   "metadata": {},
   "source": [
    "###### **Ejercicio 3:**\n",
    "Convierte la siguiente expresión matemática a código Python: $3^2 + \\frac{6}{2}$\n"
   ]
  },
  {
   "cell_type": "code",
   "execution_count": null,
   "id": "718430b7",
   "metadata": {},
   "outputs": [],
   "source": [
    "#Código\n"
   ]
  },
  {
   "cell_type": "markdown",
   "id": "88bcc772",
   "metadata": {},
   "source": [
    "**Consideraciones:**\n",
    "- Utiliza paréntesis de manera adecuada para asegurar la evaluación correcta.\n",
    "- Recuerda la jerarquía de operadores mientras realizas las conversiones.\n",
    "- Experimenta con diferentes expresiones y observa cómo afecta la salida en Python."
   ]
  },
  {
   "cell_type": "markdown",
   "id": "248a8d22",
   "metadata": {},
   "source": [
    "###### **Entrega**\n",
    "Subir al bloc de notas."
   ]
  },
  {
   "cell_type": "markdown",
   "id": "5cbc1f88",
   "metadata": {},
   "source": [
    "## 2.2 Operadores y expresiones relacionales"
   ]
  },
  {
   "cell_type": "markdown",
   "id": "e8211316",
   "metadata": {},
   "source": [
    "Los operadores y expresiones relacionales son fundamentales en la programación. Permiten comparar valores y realizar decisiones basadas en esas comparaciones. En esta presentación, exploraremos qué son los operadores y expresiones relacionales en Python, cómo se utilizan y proporcionaremos ejemplos y ejercicios para consolidar el aprendizaje.\n",
    "\n",
    "- **Operadores**: Son símbolos especiales que realizan operaciones específicas en uno o más operandos. En el contexto de las expresiones relacionales en Python, los operadores comparan dos valores y devuelven un resultado booleano (verdadero o falso).\n",
    "- **Expresiones relacionales**: Son combinaciones de operadores y operandos que se evalúan para determinar si una relación entre los valores es verdadera o falsa."
   ]
  },
  {
   "cell_type": "markdown",
   "id": "8abbc2e1",
   "metadata": {},
   "source": [
    "##### Tipos de operadores relacionales en Python\n",
    "\n",
    "1. **Igualdad**: `==` (igual a)\n",
    "2. **Desigualdad**: `!=` (no igual a)\n",
    "3. **Mayor que**: `>` (mayor que)\n",
    "4. **Menor que**: `<` (menor que)\n",
    "5. **Mayor o igual que**: `>=` (mayor o igual que)\n",
    "6. **Menor o igual que**: `<=` (menor o igual que)"
   ]
  },
  {
   "cell_type": "markdown",
   "id": "5b3f848a",
   "metadata": {},
   "source": [
    "##### Ejemplos de expresiones relacionales en Python\n",
    "\n",
    "- `5 == 5` (¿5 es igual a 5?)\n",
    "- `10 != 5` (¿10 no es igual a 5?)\n",
    "- `8 > 3` (¿8 es mayor que 3?)\n",
    "- `4 < 2` (¿4 es menor que 2?)\n",
    "- `6 >= 6` (¿6 es mayor o igual que 6?)\n",
    "- `9 <= 10` (¿9 es menor o igual que 10?)"
   ]
  },
  {
   "cell_type": "code",
   "execution_count": null,
   "id": "cb69a4f2",
   "metadata": {},
   "outputs": [],
   "source": [
    "evaluar = (5 == 6) #Expresion que incluye una variable, a la que se asignará el resultado\n",
    "print(evaluar)\n",
    "\n",
    "print(5 == 5)"
   ]
  },
  {
   "cell_type": "markdown",
   "id": "b54034a9",
   "metadata": {},
   "source": [
    "##### Ejercicios\n",
    "\n",
    "1. Determina si las siguientes expresiones relacionales son verdaderas o falsas:\n",
    "   - `7 == 7`\n",
    "   - `3 != 3`\n",
    "   - `10 > 5`\n",
    "   - `6 < 3`\n",
    "   - `8 >= 8`\n",
    "   - `4 <= 2`\n",
    "\n",
    "2. Escribe expresiones relacionales para comparar las siguientes variables:\n",
    "   - `a` y `b`\n",
    "   - `x` y `y`\n",
    "   - `num1` y `num2`\n",
    "\n",
    "3. ¿Cuál es el resultado de las siguientes expresiones relacionales?\n",
    "   - `True == False`\n",
    "   - `5 != 5`\n",
    "   - `10 > 20`\n",
    "   - `15 <= 15`\n",
    "   - `7 >= 5`"
   ]
  },
  {
   "cell_type": "code",
   "execution_count": null,
   "id": "51dbeade",
   "metadata": {},
   "outputs": [],
   "source": [
    "expresion1 = a != b\n",
    "expresion2 = a <= b\n",
    "\n",
    "expresion3 = x == y "
   ]
  },
  {
   "cell_type": "markdown",
   "id": "856e01e8",
   "metadata": {},
   "source": [
    "##### Conclusiones\n",
    "\n",
    "- Los operadores y expresiones relacionales son esenciales para la toma de decisiones en la programación en Python.\n",
    "- Permiten comparar valores y ejecutar diferentes acciones según el resultado de esas comparaciones.\n",
    "- La práctica con ejercicios ayuda a comprender mejor cómo funcionan y cómo utilizarlos eficazmente en programas."
   ]
  },
  {
   "cell_type": "markdown",
   "id": "e93dd85c",
   "metadata": {},
   "source": [
    "## 2.3 Operadores y expresiones boleanas"
   ]
  },
  {
   "cell_type": "markdown",
   "id": "5239cab4",
   "metadata": {},
   "source": [
    "Los operadores y expresiones booleanas son fundamentales en la programación para realizar operaciones lógicas y controlar el flujo del programa. En esta presentación, exploraremos qué son los operadores y expresiones booleanas en Python, cómo se utilizan, incluyendo tablas de verdad, y proporcionaremos ejemplos y ejercicios para fortalecer el entendimiento.\n",
    "\n",
    "- **Operadores booleanos**: Son símbolos que permiten realizar operaciones lógicas entre valores booleanos (`True` o `False`) en Python.\n",
    "- **Expresiones booleanas**: Son combinaciones de operadores y operandos que se evalúan como verdadero o falso en Python.\n"
   ]
  },
  {
   "cell_type": "markdown",
   "id": "29d32470",
   "metadata": {},
   "source": [
    "##### Tipos de operadores booleanos en Python\n",
    "\n",
    "1. **AND lógico**: `and`\n",
    "2. **OR lógico**: `or`\n",
    "3. **NOT lógico**: `not`"
   ]
  },
  {
   "cell_type": "markdown",
   "id": "5d71a65f",
   "metadata": {},
   "source": [
    "##### Tablas de Verdad en Python\n",
    "\n",
    "1. Tabla de verdad para el operador AND (Y):\n",
    "\n",
    "| A     | B     | A AND B |\n",
    "|-------|-------|---------|\n",
    "| false | false |   false |\n",
    "| false | true  |   false |\n",
    "| true  | false |   false |\n",
    "| true  | true  |   true  |\n",
    "\n",
    "2. Tabla de verdad para el operador OR (O):\n",
    "\n",
    "| A     | B     | A OR B |\n",
    "|-------|-------|--------|\n",
    "| false | false |  false |\n",
    "| false | true  |  true  |\n",
    "| true  | false |  true  |\n",
    "| true  | true  |  true  |\n",
    "\n",
    "3. Tabla de verdad para el operador NOT (NO):\n",
    "\n",
    "| A     | NOT A |\n",
    "|-------|-------|\n",
    "| false |  true |\n",
    "| true  | false |\n",
    "\n"
   ]
  },
  {
   "cell_type": "markdown",
   "id": "e396a938",
   "metadata": {},
   "source": [
    "**Nota sobre el tratamiento de números positivos y negativos en expresiones booleanas en Python**\n",
    "\n",
    "Al evaluar expresiones booleanas en Python, los números positivos se consideran verdaderos (true) y los números negativos se consideran como falsos (false), al igual que el cero.\n",
    "\n",
    "- En `5 and 2`, ambos números son verdaderos, por lo que la expresión es verdadera.\n",
    "- En `5 or -2`, como al menos uno de los operandos es verdadero (`5`), la expresión es verdadera.\n",
    "- En `5 and 0` evaluará como falso, ya que `0` se considera falso en expresiones con el operador `and`.\n",
    "\n",
    "Es importante tener en cuenta que Python utiliza las palabras clave `and`, `or` y `not` en lugar de `&&`, `||` y `!`, respectivamente, para los operadores booleanos.\n",
    "\n",
    "Para comprender completamente cómo se manejan los valores numéricos en expresiones booleanas en Python, se recomienda consultar la documentación oficial de Python.\n"
   ]
  },
  {
   "cell_type": "markdown",
   "id": "bb833c7c",
   "metadata": {},
   "source": [
    "##### Ejemplos de expresiones booleanas en Python\n",
    "\n",
    "- `True and False` (verdadero y falso)\n",
    "- `True or False` (verdadero o falso)\n",
    "- `not True` (no verdadero)"
   ]
  },
  {
   "cell_type": "code",
   "execution_count": null,
   "id": "f903f7ad",
   "metadata": {},
   "outputs": [],
   "source": [
    "boleano = not True\n",
    "print(boleano)"
   ]
  },
  {
   "cell_type": "markdown",
   "id": "3f6e305f",
   "metadata": {},
   "source": [
    "##### Ejercicios\n",
    "\n",
    "1. Determina el resultado de las siguientes expresiones booleanas:\n",
    "   - `True and True`\n",
    "   - `True or False`\n",
    "   - `not False`\n",
    "   - `False and (True or False)`\n",
    "   - `(True and False) or (False or True)`\n",
    "\n",
    "2. Escribe expresiones booleanas que representen las siguientes condiciones:\n",
    "   - La variable `x` es mayor que `y` y menor que `z`.\n",
    "   - `a` es verdadero o `b` es falso.\n",
    "   - `num1` no es igual a `num2`.\n",
    "\n",
    "3. ¿Cuál es el valor de las siguientes expresiones booleanas?\n",
    "   - `(5 > 3) and (10 < 20)`\n",
    "   - `(7 == 7) or (3 != 3)`\n",
    "   - `not (True and False)`\n",
    "   - `(8 >= 8) and (4 <= 2)`"
   ]
  },
  {
   "cell_type": "code",
   "execution_count": null,
   "id": "202544e0",
   "metadata": {},
   "outputs": [],
   "source": [
    "#Punto 1\n",
    "expresion = True and True\n",
    "print(expresion)"
   ]
  },
  {
   "cell_type": "code",
   "execution_count": null,
   "id": "b1faf5cb",
   "metadata": {},
   "outputs": [],
   "source": [
    "#Punto 2\n",
    "expBoleana = (x > y) and (x < z)"
   ]
  },
  {
   "cell_type": "code",
   "execution_count": null,
   "id": "d200aa66",
   "metadata": {},
   "outputs": [],
   "source": [
    "#Punto 3\n",
    "evaluarExp = (5 > 3) and (10 < 20)\n",
    "print(evaluarExp)"
   ]
  },
  {
   "cell_type": "markdown",
   "id": "1f37a484",
   "metadata": {},
   "source": [
    "##### Conclusiones\n",
    "\n",
    "- Los operadores y expresiones booleanas en Python son fundamentales para la toma de decisiones y el control de flujo en los programas.\n",
    "- La comprensión de las tablas de verdad y cómo se tratan los números positivos y negativos es crucial para utilizar correctamente los operadores booleanos en Python.\n",
    "- La práctica con ejercicios ayuda a fortalecer la comprensión y el uso efectivo de los operadores y expresiones booleanas en Python.\n",
    "\n"
   ]
  },
  {
   "cell_type": "code",
   "execution_count": null,
   "id": "42acafcf",
   "metadata": {},
   "outputs": [],
   "source": []
  },
  {
   "cell_type": "markdown",
   "id": "1d9f4dd7",
   "metadata": {},
   "source": [
    "## 2.4 Funciones Matemáticas"
   ]
  },
  {
   "cell_type": "code",
   "execution_count": null,
   "id": "d081891c",
   "metadata": {},
   "outputs": [],
   "source": []
  },
  {
   "cell_type": "markdown",
   "id": "0ae58c35",
   "metadata": {},
   "source": [
    "## 2.5 Funciones con cadenas de caracteres"
   ]
  },
  {
   "cell_type": "code",
   "execution_count": null,
   "id": "65bb7b6e",
   "metadata": {},
   "outputs": [],
   "source": []
  },
  {
   "cell_type": "code",
   "execution_count": null,
   "id": "b83aa9c9",
   "metadata": {},
   "outputs": [],
   "source": []
  },
  {
   "cell_type": "markdown",
   "id": "3a77b739",
   "metadata": {},
   "source": [
    "## 2.6 Instrucciones condicionales"
   ]
  },
  {
   "cell_type": "markdown",
   "id": "3193904e",
   "metadata": {},
   "source": [
    "### Objetivo"
   ]
  },
  {
   "cell_type": "markdown",
   "id": "e93e3bdf",
   "metadata": {},
   "source": [
    "Hacer uso de decisiones y de opción múltiple en un programa de computadora."
   ]
  },
  {
   "cell_type": "markdown",
   "id": "fc65e9c9",
   "metadata": {},
   "source": [
    "### Objetivos de aprendizaje"
   ]
  },
  {
   "cell_type": "markdown",
   "id": "2665b748",
   "metadata": {},
   "source": [
    "- Comprender qué son las estructuras condicionales y porqué son importantes en la programación.\n",
    "- Aprender a usar la estructura *if* para tomar decisiones en Python.\n",
    "- Familiarizarse con las estructuras *if-else* e *if-elif-else* para manejar condiciones múltiples.\n",
    "- Practicar la escritura de código Python utilizando estructuras condicionales. "
   ]
  },
  {
   "cell_type": "markdown",
   "id": "09c62a48",
   "metadata": {},
   "source": [
    "### Definición"
   ]
  },
  {
   "cell_type": "markdown",
   "id": "16fff8be",
   "metadata": {},
   "source": [
    "Las estructuras condicionales son bloques de código que permiten que un programa tome decisiones basadas en condiciones específicas. Estas estructuras son esenciales para la lógica y el control de flujo de un programa."
   ]
  },
  {
   "cell_type": "markdown",
   "id": "6b880802",
   "metadata": {},
   "source": [
    "### Estructura if"
   ]
  },
  {
   "cell_type": "markdown",
   "id": "b17be462",
   "metadata": {},
   "source": [
    "La estructura if se utiliza para ejecutar un bloque de código si una condición es verdadera. "
   ]
  },
  {
   "attachments": {
    "DonRam%C3%B3n.jpg": {
     "image/jpeg": "[encoded data removed]"
    }
   },
   "cell_type": "markdown",
   "id": "2de90adb",
   "metadata": {},
   "source": [
    "![DonRam%C3%B3n.jpg](attachment:DonRam%C3%B3n.jpg)"
   ]
  },
  {
   "cell_type": "markdown",
   "id": "5349e2b9",
   "metadata": {},
   "source": [
    "**Ejemplo 1:** Determinar dada la edad de una persona si es mayor de edad."
   ]
  },
  {
   "cell_type": "code",
   "execution_count": null,
   "id": "cb5e78f3",
   "metadata": {},
   "outputs": [],
   "source": [
    "edad = 17\n",
    "\n",
    "if edad >= 18:\n",
    "    print(\"Es mayor de edad\")"
   ]
  },
  {
   "cell_type": "markdown",
   "id": "18425893",
   "metadata": {},
   "source": [
    "**Ejercicio 1:** Dado un número entero determinar si es positivo. "
   ]
  },
  {
   "cell_type": "markdown",
   "id": "2827821e",
   "metadata": {},
   "source": [
    "### Estructura if-else"
   ]
  },
  {
   "cell_type": "markdown",
   "id": "5dda495a",
   "metadata": {},
   "source": [
    "La estructura *if-else* permite ejecutar un bloque de código si una condición es verdadedra y otro bloque si la condición es falsa."
   ]
  },
  {
   "cell_type": "markdown",
   "id": "8e46a7fe",
   "metadata": {},
   "source": [
    "**Ejemplo 2:** determinar si una persona es mayor o menor de edad."
   ]
  },
  {
   "cell_type": "code",
   "execution_count": null,
   "id": "2b798652",
   "metadata": {},
   "outputs": [],
   "source": [
    "edad = 27\n",
    "\n",
    "if edad >= 18:\n",
    "    print(\"Es mayor de edad\")\n",
    "else:\n",
    "    print(\"Es menor de edad\")"
   ]
  },
  {
   "cell_type": "markdown",
   "id": "3ad8ff9f",
   "metadata": {},
   "source": [
    "**Ejercicio 2:** Modificar el programa para que solicite al usuario que ingrese su edad."
   ]
  },
  {
   "cell_type": "markdown",
   "id": "b1e70513",
   "metadata": {},
   "source": [
    "**Ejercicio 3:** Modificar el ejercicio 1 para que: determine si el número es negativo y, además solicite el número al usuario."
   ]
  },
  {
   "cell_type": "markdown",
   "id": "4b6773dc",
   "metadata": {},
   "source": [
    "### Estructura *if-elif-else*"
   ]
  },
  {
   "cell_type": "markdown",
   "id": "9894e6e0",
   "metadata": {},
   "source": [
    "La estructura *if-elif-else* se utiliza cuando hay múltiples condiciones y permite ejecutar bloques de código según las condiciones que se cumplan: "
   ]
  },
  {
   "cell_type": "markdown",
   "id": "0ec6914f",
   "metadata": {},
   "source": [
    "**Ejemplo 3:** Determinar en que etapa de la vida está una persona de acuerdo con su edad: \n",
    "- Si es mayor a 60 años es adulto mayor.\n",
    "- Si es mayor a 35 años es adulto maduro.\n",
    "- Si es mayor a 25 años es adulto.\n",
    "- Si es mayor a 18 años es joven.\n",
    "- Si es mayor a 13 años es adolescente.\n",
    "- En otro caso, es un niño."
   ]
  },
  {
   "cell_type": "code",
   "execution_count": null,
   "id": "987f610f",
   "metadata": {},
   "outputs": [],
   "source": [
    "edad = int(input(\"Ingrese su edad\"))\n",
    "\n",
    "if edad > 60 :\n",
    "    print(\"Es adulto mayor\")\n",
    "elif edad > 35:\n",
    "    print(\"Es adulto maduro\")\n",
    "elif edad > 25:\n",
    "    print(\"Es adulto\")\n",
    "elif edad > 18:\n",
    "    print(\"Es joven\")\n",
    "elif edad > 13:\n",
    "    print(\"Es adolescente\")\n",
    "else:\n",
    "    print(\"Es un niño\")"
   ]
  },
  {
   "cell_type": "markdown",
   "id": "0cab35b5",
   "metadata": {},
   "source": [
    "### Ejercicios individuales"
   ]
  },
  {
   "cell_type": "markdown",
   "id": "6add4493",
   "metadata": {},
   "source": [
    "Realice los siguientes ejercicios y pegue una captura de pantalla de su script en su bloc de notas personal. "
   ]
  },
  {
   "cell_type": "markdown",
   "id": "ab98d8a4",
   "metadata": {},
   "source": [
    "**Ejercicio 4:** Realice un script que realice lo siguiente:\n",
    "Solicite al usuario una calificación entre 0 - 10, siguiendo los criterios de la UQROO y evalúe de acuerdo a lo siguiente:\n",
    "- Calificación mayor de 9, asignar a una variable llamada *competencia* \"Excelente\".\n",
    "- Calificación mayor de 8, asignar a la variable *competencia* \"Muy bueno\".\n",
    "- Calificación mayor de 7, asignar a la variable *competencia* \"Bueno\".\n",
    "- En otro caso, asignar a la variable *competencia* \"Necesita mejorar\".\n",
    "- Imprimir al final \"Tu nivel de competencia es \"\n"
   ]
  },
  {
   "cell_type": "markdown",
   "id": "cb9c088c",
   "metadata": {},
   "source": [
    "**Ejercicio 5:** Crea un programa que calcule el precio final de un artículo después de aplicar un descuento. El programa debe solicitar al usuario ingresar el precio original del artículo y luego determinar el precio final después de aplicar un 10% de descuento si el precio original es mayor o igual a $100; de lo contrario, no se aplica descuento."
   ]
  },
  {
   "cell_type": "markdown",
   "id": "ab066f5d",
   "metadata": {},
   "source": [
    "## 2.7 Estructuras iterativas"
   ]
  },
  {
   "cell_type": "markdown",
   "id": "3e9e1180",
   "metadata": {},
   "source": [
    "### Objetivo"
   ]
  },
  {
   "cell_type": "markdown",
   "id": "48dfe50c",
   "metadata": {},
   "source": [
    "Identificar los diferentes métodos iterativos que se puedan implementar en una aplicación de computadora."
   ]
  },
  {
   "cell_type": "markdown",
   "id": "419ddaef",
   "metadata": {},
   "source": [
    "### Objetivos de aprendizaje"
   ]
  },
  {
   "cell_type": "markdown",
   "id": "18fddfba",
   "metadata": {},
   "source": [
    "- Comprender que son las estructuras iterativas y por qué son importantes en la programación.\n",
    "- Aprender a usar bucles **while** y **for** en Python.\n",
    "- Familiarizarse con las declaraciones **break** y **continue**\n",
    "- Practicar la escritura de código Python utilizando bucles."
   ]
  },
  {
   "cell_type": "markdown",
   "id": "73517b8c",
   "metadata": {},
   "source": [
    "### Definición"
   ]
  },
  {
   "cell_type": "markdown",
   "id": "9d8202d0",
   "metadata": {},
   "source": [
    "Las estructuras iterativas permiten repetir un bloque de código varias veces. "
   ]
  },
  {
   "cell_type": "markdown",
   "id": "97fadabd",
   "metadata": {},
   "source": [
    "#### Bucle *while* en Python"
   ]
  },
  {
   "cell_type": "markdown",
   "id": "fce7be65",
   "metadata": {},
   "source": [
    "##### Definición"
   ]
  },
  {
   "cell_type": "markdown",
   "id": "a5c3ab47",
   "metadata": {},
   "source": [
    "Ejecuta un código mientras una condición sea verdadera"
   ]
  },
  {
   "cell_type": "markdown",
   "id": "66e7202e",
   "metadata": {},
   "source": [
    "##### Ejemplo"
   ]
  },
  {
   "cell_type": "code",
   "execution_count": 4,
   "id": "c78bbefc",
   "metadata": {},
   "outputs": [
    {
     "name": "stdout",
     "output_type": "stream",
     "text": [
      "Hola, mundo!\n",
      "Hola, mundo!\n",
      "Hola, mundo!\n",
      "Hola, mundo!\n",
      "Hola, mundo!\n"
     ]
    }
   ],
   "source": [
    "contador = 1\n",
    "\n",
    "while contador <= 5:\n",
    "    print(\"Hola, mundo!\")\n",
    "    contador += 1  # equivale a decir contador = contador + 1  --> Incremento en uno"
   ]
  },
  {
   "cell_type": "markdown",
   "id": "037a2cb1",
   "metadata": {},
   "source": [
    "##### Ejercicio"
   ]
  },
  {
   "cell_type": "markdown",
   "id": "df7abae3",
   "metadata": {},
   "source": [
    "Escribir un programa que cuente hacia atrás desde 10 hasta 1 utilizando un bucle *while*"
   ]
  },
  {
   "cell_type": "code",
   "execution_count": 12,
   "id": "1f5e4d7e",
   "metadata": {},
   "outputs": [
    {
     "name": "stdout",
     "output_type": "stream",
     "text": [
      "100\n",
      "90\n",
      "80\n",
      "70\n",
      "60\n",
      "50\n",
      "40\n",
      "30\n",
      "20\n",
      "10\n"
     ]
    }
   ],
   "source": [
    "conteo = 100\n",
    "\n",
    "while conteo >= 1:\n",
    "    print(conteo)\n",
    "    conteo -= 10  #Equivale a decir conteo = conteo - 1"
   ]
  },
  {
   "cell_type": "markdown",
   "id": "dab0fa5c",
   "metadata": {},
   "source": [
    "#### Bucle *for* en Python"
   ]
  },
  {
   "cell_type": "markdown",
   "id": "bfab6e92",
   "metadata": {},
   "source": [
    "El bucle *for* itera sobre una secuencia (como una lista, tupla o rango) y ejecuta un bloque de código para cada elemento de la secuencia"
   ]
  },
  {
   "cell_type": "markdown",
   "id": "84547c0c",
   "metadata": {},
   "source": [
    "##### Ejemplo 2:"
   ]
  },
  {
   "cell_type": "code",
   "execution_count": 15,
   "id": "93049cfd",
   "metadata": {},
   "outputs": [
    {
     "name": "stdout",
     "output_type": "stream",
     "text": [
      "manzana\n",
      "plátano\n",
      "uva\n",
      "guayaba\n",
      "sandía\n"
     ]
    }
   ],
   "source": [
    "frutas = [\"manzana\", \"plátano\", \"uva\", \"guayaba\", \"sandía\"]\n",
    "\n",
    "for fruta in frutas:\n",
    "    print(fruta)\n"
   ]
  },
  {
   "cell_type": "markdown",
   "id": "6209bb4b",
   "metadata": {},
   "source": [
    "##### Ejemplo 3:"
   ]
  },
  {
   "cell_type": "code",
   "execution_count": 17,
   "id": "a8bb638a",
   "metadata": {},
   "outputs": [
    {
     "name": "stdout",
     "output_type": "stream",
     "text": [
      "0\n",
      "1\n",
      "2\n",
      "3\n",
      "4\n"
     ]
    }
   ],
   "source": [
    "# Generar una secuencia de números del 0 al 4\n",
    "for i in range(5):   #No toca al 5, digamos que sería n-1, donde n es el límite superior del rango\n",
    "    print(i)"
   ]
  },
  {
   "cell_type": "markdown",
   "id": "b35371fa",
   "metadata": {},
   "source": [
    "##### Ejemplo 4:"
   ]
  },
  {
   "cell_type": "code",
   "execution_count": 23,
   "id": "10ac48b2",
   "metadata": {},
   "outputs": [
    {
     "name": "stdout",
     "output_type": "stream",
     "text": [
      "1\n",
      "2\n",
      "3\n",
      "4\n",
      "5\n"
     ]
    }
   ],
   "source": [
    "# Generar una secuencia de números del 1 al 5\n",
    "for i in range(1, 6): #si no empieza en 0, ahora sí pongo el límite inferior.\n",
    "    print(i)\n",
    "\n"
   ]
  },
  {
   "cell_type": "markdown",
   "id": "a4a707d3",
   "metadata": {},
   "source": [
    "##### Ejemplo 5:"
   ]
  },
  {
   "cell_type": "code",
   "execution_count": 26,
   "id": "a17b4bd8",
   "metadata": {},
   "outputs": [
    {
     "name": "stdout",
     "output_type": "stream",
     "text": [
      "2\n",
      "4\n",
      "6\n",
      "8\n",
      "10\n"
     ]
    }
   ],
   "source": [
    "# Generar una secuencia de números pares del 2 al 10\n",
    "for i in range(2, 11, 2):\n",
    "    print(i)"
   ]
  },
  {
   "cell_type": "markdown",
   "id": "803c0e06",
   "metadata": {},
   "source": [
    "##### Ejercicio 2: "
   ]
  },
  {
   "cell_type": "markdown",
   "id": "9a1aed81",
   "metadata": {},
   "source": [
    "Escribir un programa que muestre las tablas de multiplicar"
   ]
  },
  {
   "cell_type": "markdown",
   "id": "96cf8264",
   "metadata": {},
   "source": [
    "- Preguntar al usuario que tabla quiere\n",
    "- Imprimir de acuerdo a lo socilitado P, Ej: El usuario pidió la tabla del 5\n",
    "- Imprimir:\n",
    "    5 X 1 = 5\n",
    "    5 X 2 = 10\n",
    "    5 X 3 = 15\n",
    "    .\n",
    "    .\n",
    "    .\n",
    "    5 X 10 = 50"
   ]
  },
  {
   "cell_type": "markdown",
   "id": "7309c6a5",
   "metadata": {},
   "source": [
    "#### Sentencia *break*"
   ]
  },
  {
   "cell_type": "markdown",
   "id": "86536cb4",
   "metadata": {},
   "source": [
    "##### Definición"
   ]
  },
  {
   "cell_type": "markdown",
   "id": "cdc8801a",
   "metadata": {},
   "source": [
    " La sentencia *break* se usa para salir prematuramente de un bucle, generalmente basado en una condición."
   ]
  },
  {
   "cell_type": "markdown",
   "id": "7bf18c6a",
   "metadata": {},
   "source": [
    "##### Ejemplo 6"
   ]
  },
  {
   "cell_type": "code",
   "execution_count": 29,
   "id": "8a82d3b5",
   "metadata": {},
   "outputs": [
    {
     "name": "stdout",
     "output_type": "stream",
     "text": [
      "5\n",
      "4\n"
     ]
    }
   ],
   "source": [
    "numero = 5\n",
    "\n",
    "while True:\n",
    "    if numero == 3:\n",
    "        break\n",
    "    print(numero)\n",
    "    numero -= 1 #variable contador (cuando incrementa o decremente de forma constante)\n"
   ]
  },
  {
   "cell_type": "markdown",
   "id": "d356d9f4",
   "metadata": {},
   "source": [
    "##### Ejercicio 3: "
   ]
  },
  {
   "cell_type": "markdown",
   "id": "001f3843",
   "metadata": {},
   "source": [
    "Escribe un programa que le pida al usuario ingresar números positivos uno tras otro. El programa debe calcular la suma de estos números continuamente y mostrarla. Sin embargo, el programa debe detenerse cuando el usuario ingrese un número negativo y mostrar la suma total hasta ese punto. Utiliza *break* para salir del ciclo cuando se ingrese un número negativo."
   ]
  },
  {
   "cell_type": "code",
   "execution_count": null,
   "id": "f7816d2a",
   "metadata": {},
   "outputs": [],
   "source": [
    "#Se puede usar la notación de numero += numero para una variable que se llama acumulador"
   ]
  },
  {
   "cell_type": "markdown",
   "id": "5f2406a3",
   "metadata": {},
   "source": [
    "#### Sentencia *continue*"
   ]
  },
  {
   "cell_type": "markdown",
   "id": "0176bef0",
   "metadata": {},
   "source": [
    "La sentencia continue se utiliza para omitir la iteración actual de un bucle y pasar a la siguiente iteración."
   ]
  },
  {
   "cell_type": "markdown",
   "id": "08c516e3",
   "metadata": {},
   "source": [
    "##### Ejemplo 7:"
   ]
  },
  {
   "cell_type": "code",
   "execution_count": 31,
   "id": "845ce754",
   "metadata": {},
   "outputs": [
    {
     "name": "stdout",
     "output_type": "stream",
     "text": [
      "1\n",
      "2\n",
      "4\n",
      "5\n"
     ]
    }
   ],
   "source": [
    "for i in range(1, 6):\n",
    "    if i == 3:\n",
    "        continue\n",
    "    print(i)\n"
   ]
  },
  {
   "cell_type": "markdown",
   "id": "262f399a",
   "metadata": {},
   "source": [
    "##### Ejercicio 4: "
   ]
  },
  {
   "cell_type": "markdown",
   "id": "6d105422",
   "metadata": {},
   "source": [
    "Escribir un programa que muestre los números impares del 1 al 10 usando *continue* para omitir los número pares."
   ]
  },
  {
   "cell_type": "markdown",
   "id": "08343e30",
   "metadata": {},
   "source": [
    "### Ejercicio Reto individual:"
   ]
  },
  {
   "cell_type": "markdown",
   "id": "28e7f124",
   "metadata": {},
   "source": [
    "#### Verificación de contraseña"
   ]
  },
  {
   "cell_type": "markdown",
   "id": "fec8c290",
   "metadata": {},
   "source": [
    "Escribe un programa que solicite al usuario ingresar una contraseña. Luego, el programa debe verificar si la contraseña es válida según los siguientes criterios:\n",
    "\n",
    "- Debe contener al menos 8 caracteres.\n",
    "- Debe contener al menos una letra mayúscula y una letra minúscula.\n",
    "- Debe contener al menos un número.\n",
    "\n",
    "El programa debe imprimir un mensaje indicando si la contraseña es válida o no."
   ]
  },
  {
   "cell_type": "markdown",
   "id": "200c173a",
   "metadata": {},
   "source": [
    "## 2.8 Importación de módulos/funciones externas en Python"
   ]
  },
  {
   "cell_type": "markdown",
   "id": "69100c0a",
   "metadata": {},
   "source": [
    "## Clase: Importación de Módulos y Funciones Externas en Python\n",
    "\n",
    "### Introducción\n",
    "\n",
    "Python es conocido por su amplia biblioteca estándar y su comunidad activa que contribuye con una gran cantidad de paquetes y módulos externos. La importación de estos módulos y funciones externas amplía las capacidades del lenguaje y permite a los desarrolladores aprovechar el trabajo de otros para construir aplicaciones más robustas y eficientes. En esta clase, exploraremos cómo importar módulos y funciones externas en Python, junto con ejemplos y ejercicios para practicar.\n",
    "\n",
    "### Importación de Módulos\n",
    "\n",
    "En Python, los módulos son archivos que contienen definiciones y declaraciones de Python. Pueden incluir variables, funciones y clases. Para utilizar un módulo en un script Python, primero debe importarse utilizando la palabra clave `import`.\n",
    "\n",
    "#### Sintaxis:\n",
    "```python\n",
    "import nombre_del_modulo\n",
    "```\n"
   ]
  },
  {
   "cell_type": "markdown",
   "id": "71deb407",
   "metadata": {},
   "source": [
    "\n",
    "\n",
    "#### Ejemplo:\n",
    "```python\n",
    "import math\n",
    "print(math.pi)  # Accediendo a la constante pi del módulo math\n",
    "```\n",
    "\n",
    "### Alias de Módulos\n",
    "\n",
    "Es posible asignar un alias a un módulo importado para simplificar su uso en el código.\n",
    "\n",
    "#### Sintaxis:\n",
    "```python\n",
    "import nombre_del_modulo as alias\n",
    "```\n",
    "\n",
    "#### Ejemplo:\n",
    "```python\n",
    "import math as m\n",
    "print(m.pi)  # Accediendo a la constante pi del módulo math usando el alias m\n",
    "```\n",
    "\n",
    "### Importación de Funciones Específicas\n",
    "\n",
    "También es posible importar solo funciones específicas de un módulo en lugar de importar todo el módulo.\n",
    "\n",
    "#### Sintaxis:\n",
    "```python\n",
    "from nombre_del_modulo import nombre_de_funcion\n",
    "```"
   ]
  },
  {
   "cell_type": "markdown",
   "id": "ca51bb43",
   "metadata": {},
   "source": [
    "#### Ejemplo:"
   ]
  },
  {
   "cell_type": "code",
   "execution_count": 5,
   "id": "7ad38364",
   "metadata": {},
   "outputs": [
    {
     "name": "stdout",
     "output_type": "stream",
     "text": [
      "5.0\n"
     ]
    }
   ],
   "source": [
    "from math import sqrt\n",
    "print(sqrt(25))  # Importando solo la función sqrt del módulo math"
   ]
  },
  {
   "cell_type": "markdown",
   "id": "5bfb4555",
   "metadata": {},
   "source": [
    "### Ejemplos de Uso\n",
    "#### 1. Uso del módulo `random` para generar números aleatorios:"
   ]
  },
  {
   "cell_type": "code",
   "execution_count": 8,
   "id": "9c4adad8",
   "metadata": {},
   "outputs": [
    {
     "name": "stdout",
     "output_type": "stream",
     "text": [
      "31\n"
     ]
    }
   ],
   "source": [
    "import random\n",
    "print(random.randint(1, 100))  # Genera un número entero aleatorio entre 1 y 100"
   ]
  },
  {
   "cell_type": "markdown",
   "id": "63b38406",
   "metadata": {},
   "source": [
    "#### 2. Uso del módulo `datetime` para trabajar con fechas y horas:"
   ]
  },
  {
   "cell_type": "code",
   "execution_count": 11,
   "id": "751cce98",
   "metadata": {},
   "outputs": [
    {
     "name": "stdout",
     "output_type": "stream",
     "text": [
      "2024-03-01 11:29:11.701115\n"
     ]
    }
   ],
   "source": [
    "import datetime as dt\n",
    "print(dt.datetime.now())  # Imprime la fecha y hora actual"
   ]
  },
  {
   "cell_type": "markdown",
   "id": "fac529e2",
   "metadata": {},
   "source": [
    "#### 3. Uso del módulo `networkx` para trabajar con grafos y redes:"
   ]
  },
  {
   "cell_type": "code",
   "execution_count": 12,
   "id": "cdcfad46",
   "metadata": {},
   "outputs": [
    {
     "name": "stdout",
     "output_type": "stream",
     "text": [
      "['A', 'B', 'C']\n"
     ]
    }
   ],
   "source": [
    "import networkx as nx\n",
    "G = nx.Graph()\n",
    "G.add_edge('A', 'B')\n",
    "G.add_edge('B', 'C')\n",
    "print(nx.shortest_path(G, 'A', 'C'))  # Imprime el camino más corto de A a C"
   ]
  },
  {
   "cell_type": "markdown",
   "id": "f94c7f0d",
   "metadata": {},
   "source": [
    "#### 4. Uso del módulo `scipy` para cálculos científicos y de ingeniería:"
   ]
  },
  {
   "cell_type": "code",
   "execution_count": 14,
   "id": "aaecb18f",
   "metadata": {},
   "outputs": [
    {
     "name": "stdout",
     "output_type": "stream",
     "text": [
      "3.141592653589793\n"
     ]
    }
   ],
   "source": [
    "import scipy.constants\n",
    "print(scipy.constants.pi)  # Imprime el valor de pi"
   ]
  },
  {
   "cell_type": "markdown",
   "id": "b2027ec1",
   "metadata": {},
   "source": [
    "### Ejercicios\n",
    "\n",
    "1. Escribe un programa que utilice el módulo `random` para simular el lanzamiento de un dado. Imprime el resultado.\n",
    "\n",
    "2. Escribe un programa que importe la función `factorial` del módulo `math` y calcule el factorial de un número ingresado por el usuario.\n",
    "\n",
    "3. Escribe un programa que importe la función `choice` del módulo `random` y utilízala para seleccionar un elemento aleatorio de una lista dada."
   ]
  },
  {
   "cell_type": "markdown",
   "id": "fc7165d4",
   "metadata": {},
   "source": [
    "### Conclusiones\n",
    "\n",
    "La importación de módulos y funciones externas en Python es una técnica poderosa que permite a los desarrolladores acceder a una amplia gama de funcionalidades predefinidas y reutilizables. Con los ejemplos y ejercicios proporcionados, podrás comenzar a aprovechar la riqueza de la biblioteca estándar de Python y de los paquetes externos disponibles."
   ]
  }
 ],
 "metadata": {
  "kernelspec": {
   "display_name": "Python 3 (ipykernel)",
   "language": "python",
   "name": "python3"
  },
  "language_info": {
   "codemirror_mode": {
    "name": "ipython",
    "version": 3
   },
   "file_extension": ".py",
   "mimetype": "text/x-python",
   "name": "python",
   "nbconvert_exporter": "python",
   "pygments_lexer": "ipython3",
   "version": "3.11.4"
  }
 },
 "nbformat": 4,
 "nbformat_minor": 5
}
