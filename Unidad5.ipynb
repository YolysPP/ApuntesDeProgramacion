{
 "cells": [
  {
   "cell_type": "markdown",
   "id": "9e48f5c9",
   "metadata": {},
   "source": [
    "# Unidad 5. Uso de memoria secundaria para lectura y escritura"
   ]
  },
  {
   "cell_type": "markdown",
   "id": "bfc94379",
   "metadata": {},
   "source": [
    "## 5.1 Introducción a los flujos de datos"
   ]
  },
  {
   "cell_type": "markdown",
   "id": "8d41fc80",
   "metadata": {},
   "source": [
    "Los flujo de datos en Python son canales de comunicación que permiten la entrada y salida de datos desde y hacia un programa."
   ]
  },
  {
   "cell_type": "markdown",
   "id": "eff17241",
   "metadata": {},
   "source": [
    "#### Ejemplo 1: "
   ]
  },
  {
   "cell_type": "code",
   "execution_count": 1,
   "id": "45c574d3",
   "metadata": {},
   "outputs": [
    {
     "name": "stdout",
     "output_type": "stream",
     "text": [
      "Ingrese su nombre: Yolanda\n",
      "Hola, Yolanda\n"
     ]
    }
   ],
   "source": [
    "# Ejemplo de entrada de datos desde el usuario\n",
    "nombre = input(\"Ingrese su nombre: \")\n",
    "print(\"Hola,\", nombre)"
   ]
  },
  {
   "cell_type": "markdown",
   "id": "c08f010b",
   "metadata": {},
   "source": [
    "## 5.2 Apertura y cierre de un archivo"
   ]
  },
  {
   "cell_type": "markdown",
   "id": "7b948086",
   "metadata": {},
   "source": [
    "En Python, se utilizan funciones como **open()** para abrir un archivo y **close()** para cerrarlo. La apertura puede realizarse en modo lectura ('r'), escritura ('w'), o ambos ('r+') o ('w+')."
   ]
  },
  {
   "cell_type": "markdown",
   "id": "5f5eb9d6",
   "metadata": {},
   "source": [
    "### Archivos de texto sin formato"
   ]
  },
  {
   "cell_type": "markdown",
   "id": "f604b144",
   "metadata": {},
   "source": [
    "#### Ejemplo 2"
   ]
  },
  {
   "cell_type": "code",
   "execution_count": 2,
   "id": "74882567",
   "metadata": {},
   "outputs": [],
   "source": [
    "# Ejemplo de apertura y escritura en un archivo\n",
    "with open('archivo.txt', 'w') as archivo:\n",
    "    archivo.write('Hola, mundo!')\n"
   ]
  },
  {
   "cell_type": "markdown",
   "id": "d05ee6e2",
   "metadata": {},
   "source": [
    "#### Ejemplo 3:"
   ]
  },
  {
   "cell_type": "code",
   "execution_count": 3,
   "id": "5d06ddb0",
   "metadata": {},
   "outputs": [
    {
     "name": "stdout",
     "output_type": "stream",
     "text": [
      "Hola, mundo!\n"
     ]
    }
   ],
   "source": [
    "# Ejemplo de lectura de un archivo de texto\n",
    "with open('archivo.txt', 'r') as archivo:\n",
    "    contenido = archivo.read()\n",
    "    print(contenido)"
   ]
  },
  {
   "cell_type": "markdown",
   "id": "75f54bad",
   "metadata": {},
   "source": [
    "#### Ejemplo 4:"
   ]
  },
  {
   "cell_type": "code",
   "execution_count": 4,
   "id": "fe61715d",
   "metadata": {},
   "outputs": [
    {
     "name": "stdout",
     "output_type": "stream",
     "text": [
      "Contenido original del archivo:\n",
      "Hola, mundo!\n",
      "\n",
      "Contenido actualizado del archivo:\n",
      "Hola, mundo!\n",
      "Añadiendo más texto al final del archivo.\n"
     ]
    }
   ],
   "source": [
    "# Ejemplo de apertura, lectura y escritura de un archivo de texto con 'r+'\n",
    "with open('archivo.txt', 'r+') as archivo:\n",
    "    # Leemos el contenido existente del archivo\n",
    "    contenido = archivo.read()\n",
    "    print(\"Contenido original del archivo:\")\n",
    "    print(contenido)\n",
    "\n",
    "    # Movemos el puntero al final del archivo y escribimos más datos\n",
    "    archivo.write('\\nAñadiendo más texto al final del archivo.')\n",
    "\n",
    "    # Movemos el puntero al inicio del archivo para leerlo completo\n",
    "    archivo.seek(0)\n",
    "\n",
    "    # Leemos y mostramos el contenido actualizado del archivo\n",
    "    contenido_actualizado = archivo.read()\n",
    "    print(\"\\nContenido actualizado del archivo:\")\n",
    "    print(contenido_actualizado)\n"
   ]
  },
  {
   "cell_type": "markdown",
   "id": "9e8e6ab2",
   "metadata": {},
   "source": [
    "#### Ejemplo 5: "
   ]
  },
  {
   "cell_type": "code",
   "execution_count": 5,
   "id": "5b7ebe3c",
   "metadata": {},
   "outputs": [
    {
     "name": "stdout",
     "output_type": "stream",
     "text": [
      "Contenido del archivo:\n",
      "Hola, mundo!\n",
      "Este es un ejemplo de escritura en un archivo.\n",
      "\n"
     ]
    }
   ],
   "source": [
    "# Ejemplo de apertura, escritura y lectura de un archivo de texto\n",
    "with open('archivo.txt', 'w+') as archivo:\n",
    "    # Escribimos datos en el archivo\n",
    "    archivo.write('Hola, mundo!\\n')\n",
    "    archivo.write('Este es un ejemplo de escritura en un archivo.\\n')\n",
    "\n",
    "    # Movemos el puntero al inicio del archivo para leerlo\n",
    "    archivo.seek(0)\n",
    "\n",
    "    # Leemos y mostramos el contenido del archivo\n",
    "    contenido = archivo.read()\n",
    "    print(\"Contenido del archivo:\")\n",
    "    print(contenido)\n"
   ]
  },
  {
   "cell_type": "markdown",
   "id": "1a001ad8",
   "metadata": {},
   "source": [
    "### Archivos CSV"
   ]
  },
  {
   "cell_type": "markdown",
   "id": "e491bc5c",
   "metadata": {},
   "source": [
    "En Python, la manipulación de archivos no se limita a texto sin formato. También podemos trabajar con archivos CSV (Comma Separated Values), que son comúnmente utilizados para almacenar datos tabulares."
   ]
  },
  {
   "cell_type": "markdown",
   "id": "fe0d5365",
   "metadata": {},
   "source": [
    "#### Ejemplo 6:"
   ]
  },
  {
   "cell_type": "code",
   "execution_count": 6,
   "id": "1ceefbb8",
   "metadata": {},
   "outputs": [],
   "source": [
    "# Ejemplo de escritura en un archivo CSV\n",
    "import csv\n",
    "\n",
    "datos = [\n",
    "    [\"Nombre\", \"Edad\", \"Ciudad\"],\n",
    "    [\"Ana\", 25, \"Barcelona\"],\n",
    "    [\"Juan\", 30, \"Madrid\"],\n",
    "    [\"María\", 22, \"Sevilla\"]\n",
    "]\n",
    "\n",
    "with open('datos.csv', 'w', newline='') as archivo_csv:\n",
    "    escritor_csv = csv.writer(archivo_csv)\n",
    "    escritor_csv.writerows(datos)\n"
   ]
  },
  {
   "cell_type": "markdown",
   "id": "a813c82d",
   "metadata": {},
   "source": [
    "#### Ejemplo 7:"
   ]
  },
  {
   "cell_type": "code",
   "execution_count": 7,
   "id": "e68defa1",
   "metadata": {},
   "outputs": [
    {
     "name": "stdout",
     "output_type": "stream",
     "text": [
      "['Nombre', 'Edad', 'Ciudad']\n",
      "['Ana', '25', 'Barcelona']\n",
      "['Juan', '30', 'Madrid']\n",
      "['María', '22', 'Sevilla']\n"
     ]
    }
   ],
   "source": [
    "# Ejemplo de lectura de un archivo CSV\n",
    "with open('datos.csv', 'r') as archivo_csv:\n",
    "    lector_csv = csv.reader(archivo_csv)\n",
    "    for fila in lector_csv:\n",
    "        print(fila)\n"
   ]
  },
  {
   "cell_type": "markdown",
   "id": "593b3125",
   "metadata": {},
   "source": [
    "## 5.3 Funciones de lectura y escritura"
   ]
  },
  {
   "cell_type": "markdown",
   "id": "865120ca",
   "metadata": {},
   "source": [
    "### Métodos o funciones de escritura"
   ]
  },
  {
   "cell_type": "markdown",
   "id": "8bd4b82f",
   "metadata": {},
   "source": [
    "##### write (str)"
   ]
  },
  {
   "cell_type": "markdown",
   "id": "f3b0a552",
   "metadata": {},
   "source": [
    "Escribe la cadena de caracteres proporcionada en el archivo."
   ]
  },
  {
   "cell_type": "markdown",
   "id": "eafcfce9",
   "metadata": {},
   "source": [
    "#### Ejemplo 8:"
   ]
  },
  {
   "cell_type": "code",
   "execution_count": null,
   "id": "5183f801",
   "metadata": {},
   "outputs": [],
   "source": [
    "with open('archivo.txt', 'w') as archivo:\n",
    "    archivo.write('Hola, mundo!')\n"
   ]
  },
  {
   "cell_type": "markdown",
   "id": "e9c0312e",
   "metadata": {},
   "source": [
    "##### writelines(list_of_str):"
   ]
  },
  {
   "cell_type": "markdown",
   "id": "3423ddee",
   "metadata": {},
   "source": [
    "Escribe una lista de cadenas de caracteres en el archivo."
   ]
  },
  {
   "cell_type": "markdown",
   "id": "6d892e06",
   "metadata": {},
   "source": [
    "#### Ejemplo 9:"
   ]
  },
  {
   "cell_type": "code",
   "execution_count": 8,
   "id": "33ec886d",
   "metadata": {},
   "outputs": [],
   "source": [
    "with open('archivo.txt', 'w') as archivo:\n",
    "    lineas = ['Línea 1\\n', 'Línea 2\\n', 'Línea 3\\n']\n",
    "    archivo.writelines(lineas)\n"
   ]
  },
  {
   "cell_type": "markdown",
   "id": "d06ad2d9",
   "metadata": {},
   "source": [
    "### Métodos de lectura"
   ]
  },
  {
   "cell_type": "markdown",
   "id": "354dc63b",
   "metadata": {},
   "source": [
    "##### read(size):"
   ]
  },
  {
   "cell_type": "markdown",
   "id": "ba4929b2",
   "metadata": {},
   "source": [
    "Lee y devuelve los primeros **size** bytes del archivo. Si **size** no se proporciona o es negativo, se lee todo el contenido."
   ]
  },
  {
   "cell_type": "markdown",
   "id": "3785c08f",
   "metadata": {},
   "source": [
    "#### Ejemplo 10:"
   ]
  },
  {
   "cell_type": "code",
   "execution_count": 9,
   "id": "b8f4aaf5",
   "metadata": {},
   "outputs": [
    {
     "name": "stdout",
     "output_type": "stream",
     "text": [
      "Línea 1\n",
      "Línea 2\n",
      "Línea 3\n",
      "\n"
     ]
    }
   ],
   "source": [
    "with open('archivo.txt', 'r') as archivo:\n",
    "    contenido = archivo.read()\n",
    "    print(contenido)\n"
   ]
  },
  {
   "cell_type": "markdown",
   "id": "b713450f",
   "metadata": {},
   "source": [
    "##### readline(size):"
   ]
  },
  {
   "cell_type": "markdown",
   "id": "bb432a3b",
   "metadata": {},
   "source": [
    "Lee y devuelve la siguiente línea del archivo. Si size se proporciona, se lee esa cantidad de bytes."
   ]
  },
  {
   "cell_type": "markdown",
   "id": "f78397a4",
   "metadata": {},
   "source": [
    "#### Ejemplo 11: "
   ]
  },
  {
   "cell_type": "code",
   "execution_count": 10,
   "id": "4addea9b",
   "metadata": {},
   "outputs": [
    {
     "name": "stdout",
     "output_type": "stream",
     "text": [
      "Línea 1\n",
      "\n"
     ]
    }
   ],
   "source": [
    "with open('archivo.txt', 'r') as archivo:\n",
    "    linea = archivo.readline()\n",
    "    print(linea)\n"
   ]
  },
  {
   "cell_type": "markdown",
   "id": "0615a6e3",
   "metadata": {},
   "source": [
    "##### readlines(hint):"
   ]
  },
  {
   "cell_type": "markdown",
   "id": "a7e8a54f",
   "metadata": {},
   "source": [
    "Lee y devuelve una lista de líneas del archivo. Si hint se proporciona, se lee aproximadamente esa cantidad de bytes."
   ]
  },
  {
   "cell_type": "markdown",
   "id": "35fb5edb",
   "metadata": {},
   "source": [
    "#### Ejemplo 12:"
   ]
  },
  {
   "cell_type": "code",
   "execution_count": 11,
   "id": "2fab8b40",
   "metadata": {},
   "outputs": [
    {
     "name": "stdout",
     "output_type": "stream",
     "text": [
      "['Línea 1\\n', 'Línea 2\\n', 'Línea 3\\n']\n"
     ]
    }
   ],
   "source": [
    "with open('archivo.txt', 'r') as archivo:\n",
    "    lineas = archivo.readlines()\n",
    "    print(lineas)\n"
   ]
  },
  {
   "cell_type": "markdown",
   "id": "9283461e",
   "metadata": {},
   "source": [
    "##### iterator:"
   ]
  },
  {
   "cell_type": "markdown",
   "id": "505ec471",
   "metadata": {},
   "source": [
    "Puedes iterar directamente sobre el archivo para leer línea por línea."
   ]
  },
  {
   "cell_type": "markdown",
   "id": "364c8cf1",
   "metadata": {},
   "source": [
    "#### Ejemplo 13:"
   ]
  },
  {
   "cell_type": "code",
   "execution_count": 12,
   "id": "da4e67cf",
   "metadata": {},
   "outputs": [
    {
     "name": "stdout",
     "output_type": "stream",
     "text": [
      "Línea 1\n",
      "\n",
      "Línea 2\n",
      "\n",
      "Línea 3\n",
      "\n"
     ]
    }
   ],
   "source": [
    "with open('archivo.txt', 'r') as archivo:\n",
    "    for linea in archivo:\n",
    "        print(linea)\n"
   ]
  },
  {
   "cell_type": "markdown",
   "id": "14fd84c4",
   "metadata": {},
   "source": [
    "## 5.4 Tipos de excepciones"
   ]
  },
  {
   "cell_type": "markdown",
   "id": "4b1fcb5b",
   "metadata": {},
   "source": [
    "### Definición"
   ]
  },
  {
   "cell_type": "markdown",
   "id": "72203737",
   "metadata": {},
   "source": [
    "Las excepciones son eventos inesperados que interrumpen el flujo normal del programa. En Python, hay varios tipos de excepciones, como FileNotFoundError, TypeError, etc."
   ]
  },
  {
   "cell_type": "markdown",
   "id": "66c04102",
   "metadata": {},
   "source": [
    "##### Error TypeError"
   ]
  },
  {
   "cell_type": "markdown",
   "id": "e438ebe1",
   "metadata": {},
   "source": [
    "#### Ejemplo 14:"
   ]
  },
  {
   "cell_type": "code",
   "execution_count": 13,
   "id": "796aa826",
   "metadata": {},
   "outputs": [
    {
     "name": "stdout",
     "output_type": "stream",
     "text": [
      "Error: unsupported operand type(s) for +: 'int' and 'str'\n"
     ]
    }
   ],
   "source": [
    "# Ejemplo de TypeError\n",
    "numero = \"dos\"\n",
    "try:\n",
    "    resultado = 10 + numero\n",
    "except TypeError as e:\n",
    "    print(f\"Error: {e}\")\n"
   ]
  },
  {
   "cell_type": "markdown",
   "id": "ae1c060a",
   "metadata": {},
   "source": [
    "##### Error FileNotFoundError"
   ]
  },
  {
   "cell_type": "markdown",
   "id": "328fce35",
   "metadata": {},
   "source": [
    "#### Ejemplo 15"
   ]
  },
  {
   "cell_type": "code",
   "execution_count": 14,
   "id": "906a6068",
   "metadata": {},
   "outputs": [
    {
     "name": "stdout",
     "output_type": "stream",
     "text": [
      "El archivo no se encontró. Verifica el nombre o la ruta.\n"
     ]
    }
   ],
   "source": [
    "try:\n",
    "    # Intentamos abrir un archivo que no existe\n",
    "    with open('archivo_inexistente.txt', 'r') as archivo:\n",
    "        contenido = archivo.read()\n",
    "        print(contenido)\n",
    "\n",
    "except FileNotFoundError:\n",
    "    # Capturamos la excepción FileNotFoundError\n",
    "    print(\"El archivo no se encontró. Verifica el nombre o la ruta.\")\n",
    "\n",
    "except Exception as e:\n",
    "    # Capturamos cualquier otra excepción que pueda ocurrir\n",
    "    print(f\"Ocurrió un error: {e}\")\n"
   ]
  },
  {
   "cell_type": "markdown",
   "id": "c104d9cc",
   "metadata": {},
   "source": [
    "## 5.5 Manejo de excepciones"
   ]
  },
  {
   "cell_type": "markdown",
   "id": "d9429d79",
   "metadata": {},
   "source": [
    "### Definición "
   ]
  },
  {
   "cell_type": "markdown",
   "id": "b6c3de5e",
   "metadata": {},
   "source": [
    "El manejo de excepciones se realiza mediante bloques try y except. Esto permite controlar errores y ejecutar un código alternativo cuando se detecta una excepción."
   ]
  },
  {
   "cell_type": "markdown",
   "id": "7e8b4632",
   "metadata": {},
   "source": [
    "#### Ejemplo 16: "
   ]
  },
  {
   "cell_type": "code",
   "execution_count": 15,
   "id": "667adb0e",
   "metadata": {},
   "outputs": [
    {
     "name": "stdout",
     "output_type": "stream",
     "text": [
      "No se puede dividir por cero.\n"
     ]
    }
   ],
   "source": [
    "# Ejemplo de manejo de excepciones\n",
    "try:\n",
    "    x = 10 / 0\n",
    "except ZeroDivisionError:\n",
    "    print(\"No se puede dividir por cero.\")\n"
   ]
  },
  {
   "cell_type": "markdown",
   "id": "428d9316",
   "metadata": {},
   "source": [
    "**Actividad:** Investigar los tipos más comunes de error y el manejo correspondiente con try - except"
   ]
  }
 ],
 "metadata": {
  "kernelspec": {
   "display_name": "Python 3 (ipykernel)",
   "language": "python",
   "name": "python3"
  },
  "language_info": {
   "codemirror_mode": {
    "name": "ipython",
    "version": 3
   },
   "file_extension": ".py",
   "mimetype": "text/x-python",
   "name": "python",
   "nbconvert_exporter": "python",
   "pygments_lexer": "ipython3",
   "version": "3.11.4"
  }
 },
 "nbformat": 4,
 "nbformat_minor": 5
}
